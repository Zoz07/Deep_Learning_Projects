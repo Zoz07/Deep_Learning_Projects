{
 "cells": [
  {
   "cell_type": "markdown",
   "metadata": {},
   "source": [
    "# 10. Milestone Project 3 Time series forecasting in TensorFlow (BitPredict)"
   ]
  },
  {
   "cell_type": "markdown",
   "metadata": {},
   "source": [
    "We are going to predict the price of Bitcoin"
   ]
  },
  {
   "cell_type": "markdown",
   "metadata": {},
   "source": [
    "# Dataset"
   ]
  },
  {
   "cell_type": "code",
   "execution_count": 7,
   "metadata": {},
   "outputs": [],
   "source": [
    "import pandas as pd\n",
    "\n",
    "df = pd.read_csv(\"dataset.csv\",\n",
    "                 parse_dates= [\"Date\"],\n",
    "                 index_col=[\"Date\"])"
   ]
  },
  {
   "cell_type": "code",
   "execution_count": 8,
   "metadata": {},
   "outputs": [
    {
     "data": {
      "text/html": [
       "<div>\n",
       "<style scoped>\n",
       "    .dataframe tbody tr th:only-of-type {\n",
       "        vertical-align: middle;\n",
       "    }\n",
       "\n",
       "    .dataframe tbody tr th {\n",
       "        vertical-align: top;\n",
       "    }\n",
       "\n",
       "    .dataframe thead th {\n",
       "        text-align: right;\n",
       "    }\n",
       "</style>\n",
       "<table border=\"1\" class=\"dataframe\">\n",
       "  <thead>\n",
       "    <tr style=\"text-align: right;\">\n",
       "      <th></th>\n",
       "      <th>Open</th>\n",
       "      <th>High</th>\n",
       "      <th>Low</th>\n",
       "      <th>Close</th>\n",
       "    </tr>\n",
       "    <tr>\n",
       "      <th>Date</th>\n",
       "      <th></th>\n",
       "      <th></th>\n",
       "      <th></th>\n",
       "      <th></th>\n",
       "    </tr>\n",
       "  </thead>\n",
       "  <tbody>\n",
       "    <tr>\n",
       "      <th>2024-09-30</th>\n",
       "      <td>65,973</td>\n",
       "      <td>66,072</td>\n",
       "      <td>63,061</td>\n",
       "      <td>63,431</td>\n",
       "    </tr>\n",
       "    <tr>\n",
       "      <th>2024-09-29</th>\n",
       "      <td>65,735</td>\n",
       "      <td>65,984</td>\n",
       "      <td>65,450</td>\n",
       "      <td>65,973</td>\n",
       "    </tr>\n",
       "    <tr>\n",
       "      <th>2024-09-28</th>\n",
       "      <td>65,686</td>\n",
       "      <td>66,239</td>\n",
       "      <td>65,458</td>\n",
       "      <td>65,735</td>\n",
       "    </tr>\n",
       "    <tr>\n",
       "      <th>2024-09-27</th>\n",
       "      <td>64,747</td>\n",
       "      <td>66,492</td>\n",
       "      <td>64,658</td>\n",
       "      <td>65,689</td>\n",
       "    </tr>\n",
       "    <tr>\n",
       "      <th>2024-09-26</th>\n",
       "      <td>63,155</td>\n",
       "      <td>65,811</td>\n",
       "      <td>62,671</td>\n",
       "      <td>64,748</td>\n",
       "    </tr>\n",
       "  </tbody>\n",
       "</table>\n",
       "</div>"
      ],
      "text/plain": [
       "              Open    High     Low   Close\n",
       "Date                                      \n",
       "2024-09-30  65,973  66,072  63,061  63,431\n",
       "2024-09-29  65,735  65,984  65,450  65,973\n",
       "2024-09-28  65,686  66,239  65,458  65,735\n",
       "2024-09-27  64,747  66,492  64,658  65,689\n",
       "2024-09-26  63,155  65,811  62,671  64,748"
      ]
     },
     "execution_count": 8,
     "metadata": {},
     "output_type": "execute_result"
    }
   ],
   "source": [
    "df.head()"
   ]
  },
  {
   "cell_type": "code",
   "execution_count": 9,
   "metadata": {},
   "outputs": [],
   "source": [
    "df = df.iloc[::-1]"
   ]
  },
  {
   "cell_type": "code",
   "execution_count": 10,
   "metadata": {},
   "outputs": [
    {
     "data": {
      "text/html": [
       "<div>\n",
       "<style scoped>\n",
       "    .dataframe tbody tr th:only-of-type {\n",
       "        vertical-align: middle;\n",
       "    }\n",
       "\n",
       "    .dataframe tbody tr th {\n",
       "        vertical-align: top;\n",
       "    }\n",
       "\n",
       "    .dataframe thead th {\n",
       "        text-align: right;\n",
       "    }\n",
       "</style>\n",
       "<table border=\"1\" class=\"dataframe\">\n",
       "  <thead>\n",
       "    <tr style=\"text-align: right;\">\n",
       "      <th></th>\n",
       "      <th>Open</th>\n",
       "      <th>High</th>\n",
       "      <th>Low</th>\n",
       "      <th>Close</th>\n",
       "    </tr>\n",
       "    <tr>\n",
       "      <th>Date</th>\n",
       "      <th></th>\n",
       "      <th></th>\n",
       "      <th></th>\n",
       "      <th></th>\n",
       "    </tr>\n",
       "  </thead>\n",
       "  <tbody>\n",
       "    <tr>\n",
       "      <th>2023-09-30</th>\n",
       "      <td>26,921</td>\n",
       "      <td>27,089</td>\n",
       "      <td>26,867</td>\n",
       "      <td>27,031</td>\n",
       "    </tr>\n",
       "    <tr>\n",
       "      <th>2023-10-01</th>\n",
       "      <td>27,031</td>\n",
       "      <td>27,281</td>\n",
       "      <td>26,959</td>\n",
       "      <td>27,105</td>\n",
       "    </tr>\n",
       "    <tr>\n",
       "      <th>2023-10-02</th>\n",
       "      <td>27,105</td>\n",
       "      <td>28,565</td>\n",
       "      <td>27,061</td>\n",
       "      <td>27,969</td>\n",
       "    </tr>\n",
       "    <tr>\n",
       "      <th>2023-10-03</th>\n",
       "      <td>27,970</td>\n",
       "      <td>27,971</td>\n",
       "      <td>27,258</td>\n",
       "      <td>27,268</td>\n",
       "    </tr>\n",
       "    <tr>\n",
       "      <th>2023-10-04</th>\n",
       "      <td>27,269</td>\n",
       "      <td>27,825</td>\n",
       "      <td>27,194</td>\n",
       "      <td>27,627</td>\n",
       "    </tr>\n",
       "  </tbody>\n",
       "</table>\n",
       "</div>"
      ],
      "text/plain": [
       "              Open    High     Low   Close\n",
       "Date                                      \n",
       "2023-09-30  26,921  27,089  26,867  27,031\n",
       "2023-10-01  27,031  27,281  26,959  27,105\n",
       "2023-10-02  27,105  28,565  27,061  27,969\n",
       "2023-10-03  27,970  27,971  27,258  27,268\n",
       "2023-10-04  27,269  27,825  27,194  27,627"
      ]
     },
     "execution_count": 10,
     "metadata": {},
     "output_type": "execute_result"
    }
   ],
   "source": [
    "df.head()"
   ]
  },
  {
   "cell_type": "code",
   "execution_count": 11,
   "metadata": {},
   "outputs": [
    {
     "name": "stdout",
     "output_type": "stream",
     "text": [
      "<class 'pandas.core.frame.DataFrame'>\n",
      "DatetimeIndex: 367 entries, 2023-09-30 to 2024-09-30\n",
      "Data columns (total 4 columns):\n",
      " #   Column  Non-Null Count  Dtype \n",
      "---  ------  --------------  ----- \n",
      " 0   Open    367 non-null    object\n",
      " 1   High    367 non-null    object\n",
      " 2   Low     367 non-null    object\n",
      " 3   Close   367 non-null    object\n",
      "dtypes: object(4)\n",
      "memory usage: 14.3+ KB\n"
     ]
    }
   ],
   "source": [
    "df.info()"
   ]
  },
  {
   "cell_type": "code",
   "execution_count": 12,
   "metadata": {},
   "outputs": [],
   "source": [
    "df = df.replace({',': ''}, regex=True)"
   ]
  },
  {
   "cell_type": "code",
   "execution_count": 13,
   "metadata": {},
   "outputs": [],
   "source": [
    "df = df.astype({'Open': 'int', 'High': 'int', 'Low': 'int', 'Close': 'int'})"
   ]
  },
  {
   "cell_type": "code",
   "execution_count": 14,
   "metadata": {},
   "outputs": [],
   "source": [
    "# Save DataFrame to CSV\n",
    "df.to_csv('dataset1.csv', index=True)"
   ]
  },
  {
   "cell_type": "code",
   "execution_count": 15,
   "metadata": {},
   "outputs": [
    {
     "data": {
      "text/plain": [
       "367"
      ]
     },
     "execution_count": 15,
     "metadata": {},
     "output_type": "execute_result"
    }
   ],
   "source": [
    "len(df)"
   ]
  },
  {
   "cell_type": "code",
   "execution_count": 16,
   "metadata": {},
   "outputs": [
    {
     "data": {
      "text/html": [
       "<div>\n",
       "<style scoped>\n",
       "    .dataframe tbody tr th:only-of-type {\n",
       "        vertical-align: middle;\n",
       "    }\n",
       "\n",
       "    .dataframe tbody tr th {\n",
       "        vertical-align: top;\n",
       "    }\n",
       "\n",
       "    .dataframe thead th {\n",
       "        text-align: right;\n",
       "    }\n",
       "</style>\n",
       "<table border=\"1\" class=\"dataframe\">\n",
       "  <thead>\n",
       "    <tr style=\"text-align: right;\">\n",
       "      <th></th>\n",
       "      <th>Price</th>\n",
       "    </tr>\n",
       "    <tr>\n",
       "      <th>Date</th>\n",
       "      <th></th>\n",
       "    </tr>\n",
       "  </thead>\n",
       "  <tbody>\n",
       "    <tr>\n",
       "      <th>2023-09-30</th>\n",
       "      <td>27031</td>\n",
       "    </tr>\n",
       "    <tr>\n",
       "      <th>2023-10-01</th>\n",
       "      <td>27105</td>\n",
       "    </tr>\n",
       "    <tr>\n",
       "      <th>2023-10-02</th>\n",
       "      <td>27969</td>\n",
       "    </tr>\n",
       "    <tr>\n",
       "      <th>2023-10-03</th>\n",
       "      <td>27268</td>\n",
       "    </tr>\n",
       "    <tr>\n",
       "      <th>2023-10-04</th>\n",
       "      <td>27627</td>\n",
       "    </tr>\n",
       "    <tr>\n",
       "      <th>...</th>\n",
       "      <td>...</td>\n",
       "    </tr>\n",
       "    <tr>\n",
       "      <th>2024-09-26</th>\n",
       "      <td>64748</td>\n",
       "    </tr>\n",
       "    <tr>\n",
       "      <th>2024-09-27</th>\n",
       "      <td>65689</td>\n",
       "    </tr>\n",
       "    <tr>\n",
       "      <th>2024-09-28</th>\n",
       "      <td>65735</td>\n",
       "    </tr>\n",
       "    <tr>\n",
       "      <th>2024-09-29</th>\n",
       "      <td>65973</td>\n",
       "    </tr>\n",
       "    <tr>\n",
       "      <th>2024-09-30</th>\n",
       "      <td>63431</td>\n",
       "    </tr>\n",
       "  </tbody>\n",
       "</table>\n",
       "<p>367 rows × 1 columns</p>\n",
       "</div>"
      ],
      "text/plain": [
       "            Price\n",
       "Date             \n",
       "2023-09-30  27031\n",
       "2023-10-01  27105\n",
       "2023-10-02  27969\n",
       "2023-10-03  27268\n",
       "2023-10-04  27627\n",
       "...           ...\n",
       "2024-09-26  64748\n",
       "2024-09-27  65689\n",
       "2024-09-28  65735\n",
       "2024-09-29  65973\n",
       "2024-09-30  63431\n",
       "\n",
       "[367 rows x 1 columns]"
      ]
     },
     "execution_count": 16,
     "metadata": {},
     "output_type": "execute_result"
    }
   ],
   "source": [
    "bitcoin_prices = pd.DataFrame(df[\"Close\"]).rename(columns={\"Close\": \"Price\"})\n",
    "bitcoin_prices\n",
    "                              "
   ]
  },
  {
   "cell_type": "code",
   "execution_count": 17,
   "metadata": {},
   "outputs": [
    {
     "data": {
      "image/png": "[encoded data removed]",
      "text/plain": [
       "<Figure size 640x480 with 1 Axes>"
      ]
     },
     "metadata": {},
     "output_type": "display_data"
    }
   ],
   "source": [
    "import matplotlib.pyplot as plt\n",
    "\n",
    "bitcoin_prices.plot();"
   ]
  },
  {
   "cell_type": "code",
   "execution_count": 18,
   "metadata": {},
   "outputs": [
    {
     "data": {
      "text/plain": [
       "([datetime.datetime(2023, 9, 30, 0, 0),\n",
       "  datetime.datetime(2023, 10, 1, 0, 0),\n",
       "  datetime.datetime(2023, 10, 2, 0, 0),\n",
       "  datetime.datetime(2023, 10, 3, 0, 0),\n",
       "  datetime.datetime(2023, 10, 4, 0, 0),\n",
       "  datetime.datetime(2023, 10, 5, 0, 0),\n",
       "  datetime.datetime(2023, 10, 6, 0, 0),\n",
       "  datetime.datetime(2023, 10, 7, 0, 0),\n",
       "  datetime.datetime(2023, 10, 8, 0, 0),\n",
       "  datetime.datetime(2023, 10, 9, 0, 0)],\n",
       " [27031, 27105, 27969, 27268, 27627, 27487, 27972, 27884, 27907, 27614])"
      ]
     },
     "execution_count": 18,
     "metadata": {},
     "output_type": "execute_result"
    }
   ],
   "source": [
    "import csv\n",
    "from datetime import datetime\n",
    "\n",
    "timesteps = []\n",
    "btc_price = []\n",
    "with open(r\"C:\\Users\\ziyad\\Courses\\DL\\10_Milestone_Project 3_Time_series_forecasting_in_TensorFlow_(BitPredict)\\dataset1.csv\", \"r\") as f:\n",
    "    csv_reader = csv.reader(f, delimiter= \",\")\n",
    "    next(csv_reader)\n",
    "    for line in csv_reader:\n",
    "        timesteps.append(datetime.strptime(line[0], \"%Y-%m-%d\"))\n",
    "        btc_price.append(int(line[4]))\n",
    "\n",
    "timesteps[:10], btc_price[:10]"
   ]
  },
  {
   "cell_type": "code",
   "execution_count": 19,
   "metadata": {},
   "outputs": [
    {
     "data": {
      "image/png": "[encoded data removed]",
      "text/plain": [
       "<Figure size 640x480 with 1 Axes>"
      ]
     },
     "metadata": {},
     "output_type": "display_data"
    }
   ],
   "source": [
    "plt.plot(timesteps, btc_price);"
   ]
  },
  {
   "cell_type": "code",
   "execution_count": 20,
   "metadata": {},
   "outputs": [
    {
     "data": {
      "text/html": [
       "<div>\n",
       "<style scoped>\n",
       "    .dataframe tbody tr th:only-of-type {\n",
       "        vertical-align: middle;\n",
       "    }\n",
       "\n",
       "    .dataframe tbody tr th {\n",
       "        vertical-align: top;\n",
       "    }\n",
       "\n",
       "    .dataframe thead th {\n",
       "        text-align: right;\n",
       "    }\n",
       "</style>\n",
       "<table border=\"1\" class=\"dataframe\">\n",
       "  <thead>\n",
       "    <tr style=\"text-align: right;\">\n",
       "      <th></th>\n",
       "      <th>Price</th>\n",
       "    </tr>\n",
       "    <tr>\n",
       "      <th>Date</th>\n",
       "      <th></th>\n",
       "    </tr>\n",
       "  </thead>\n",
       "  <tbody>\n",
       "    <tr>\n",
       "      <th>2023-09-30</th>\n",
       "      <td>27031</td>\n",
       "    </tr>\n",
       "    <tr>\n",
       "      <th>2023-10-01</th>\n",
       "      <td>27105</td>\n",
       "    </tr>\n",
       "    <tr>\n",
       "      <th>2023-10-02</th>\n",
       "      <td>27969</td>\n",
       "    </tr>\n",
       "    <tr>\n",
       "      <th>2023-10-03</th>\n",
       "      <td>27268</td>\n",
       "    </tr>\n",
       "    <tr>\n",
       "      <th>2023-10-04</th>\n",
       "      <td>27627</td>\n",
       "    </tr>\n",
       "  </tbody>\n",
       "</table>\n",
       "</div>"
      ],
      "text/plain": [
       "            Price\n",
       "Date             \n",
       "2023-09-30  27031\n",
       "2023-10-01  27105\n",
       "2023-10-02  27969\n",
       "2023-10-03  27268\n",
       "2023-10-04  27627"
      ]
     },
     "execution_count": 20,
     "metadata": {},
     "output_type": "execute_result"
    }
   ],
   "source": [
    "bitcoin_prices.head()"
   ]
  },
  {
   "cell_type": "code",
   "execution_count": 21,
   "metadata": {},
   "outputs": [
    {
     "data": {
      "text/plain": [
       "(array(['2023-09-30T00:00:00.000000000', '2023-10-01T00:00:00.000000000',\n",
       "        '2023-10-02T00:00:00.000000000', '2023-10-03T00:00:00.000000000',\n",
       "        '2023-10-04T00:00:00.000000000', '2023-10-05T00:00:00.000000000',\n",
       "        '2023-10-06T00:00:00.000000000', '2023-10-07T00:00:00.000000000',\n",
       "        '2023-10-08T00:00:00.000000000', '2023-10-09T00:00:00.000000000'],\n",
       "       dtype='datetime64[ns]'),\n",
       " array([27031, 27105, 27969, 27268, 27627, 27487, 27972, 27884, 27907,\n",
       "        27614]))"
      ]
     },
     "execution_count": 21,
     "metadata": {},
     "output_type": "execute_result"
    }
   ],
   "source": [
    "timesteps = bitcoin_prices.index.to_numpy()\n",
    "prices = bitcoin_prices[\"Price\"].to_numpy()\n",
    "timesteps[:10], prices[:10]"
   ]
  },
  {
   "cell_type": "code",
   "execution_count": 22,
   "metadata": {},
   "outputs": [
    {
     "data": {
      "text/plain": [
       "(293, 74, 293, 74)"
      ]
     },
     "execution_count": 22,
     "metadata": {},
     "output_type": "execute_result"
    }
   ],
   "source": [
    "split_size = int(0.8*len(prices))\n",
    "X_train, y_train = timesteps[:split_size], prices[:split_size]\n",
    "X_test, y_test = timesteps[split_size:], prices[split_size:]\n",
    "len(X_train), len(X_test), len(y_train), len(y_test)"
   ]
  },
  {
   "cell_type": "code",
   "execution_count": 23,
   "metadata": {},
   "outputs": [
    {
     "data": {
      "image/png": "[encoded data removed]",
      "text/plain": [
       "<Figure size 640x480 with 1 Axes>"
      ]
     },
     "metadata": {},
     "output_type": "display_data"
    }
   ],
   "source": [
    "plt.scatter(X_train, y_train, label=\"train\")\n",
    "plt.scatter(X_test, y_test, label=\"test\")\n",
    "plt.legend(bbox_to_anchor=(1.2, 1))\n",
    "plt.grid()"
   ]
  },
  {
   "cell_type": "markdown",
   "metadata": {},
   "source": [
    "# Model"
   ]
  },
  {
   "cell_type": "markdown",
   "metadata": {},
   "source": [
    "* horizon = number of timesteps to predict into future\n",
    "* window = number of timesteps from past used to predict horizon"
   ]
  },
  {
   "cell_type": "markdown",
   "metadata": {},
   "source": [
    "| Model Type                                                  | Horizon size | Window size | Extra data            |\n",
    "|--------------------------------------------------------------|--------------|-------------|-----------------------|\n",
    "| Naïve model (baseline)                                       | NA           | NA          | NA                    |\n",
    "| Dense model                                                  | 1            | 7           | NA                    |\n",
    "\n"
   ]
  },
  {
   "cell_type": "markdown",
   "metadata": {},
   "source": [
    "# Format Data"
   ]
  },
  {
   "cell_type": "code",
   "execution_count": 24,
   "metadata": {},
   "outputs": [
    {
     "data": {
      "text/plain": [
       "73"
      ]
     },
     "execution_count": 24,
     "metadata": {},
     "output_type": "execute_result"
    }
   ],
   "source": [
    "naive_forecast = y_test[:-1]\n",
    "len(naive_forecast)"
   ]
  },
  {
   "cell_type": "code",
   "execution_count": 25,
   "metadata": {},
   "outputs": [],
   "source": [
    "import tensorflow as tf"
   ]
  },
  {
   "cell_type": "code",
   "execution_count": 26,
   "metadata": {},
   "outputs": [],
   "source": [
    "def mean_absolute_scaled_error(y_true,y_pred):\n",
    "    mae = tf.reduce_mean(tf.abs(y_true-y_pred))\n",
    "    mae_naive_no_season = tf.reduce_mean(tf.abs(y_true[1:]-y_true[:-1]))\n",
    "    return (mae/mae_naive_no_season)"
   ]
  },
  {
   "cell_type": "code",
   "execution_count": 27,
   "metadata": {},
   "outputs": [
    {
     "data": {
      "text/plain": [
       "0.9862903225806452"
      ]
     },
     "execution_count": 27,
     "metadata": {},
     "output_type": "execute_result"
    }
   ],
   "source": [
    "mean_absolute_scaled_error(y_test[1:], naive_forecast).numpy()"
   ]
  },
  {
   "cell_type": "code",
   "execution_count": 28,
   "metadata": {},
   "outputs": [
    {
     "data": {
      "text/plain": [
       "dtype('int32')"
      ]
     },
     "execution_count": 28,
     "metadata": {},
     "output_type": "execute_result"
    }
   ],
   "source": [
    "y_test.dtype"
   ]
  },
  {
   "cell_type": "code",
   "execution_count": 29,
   "metadata": {},
   "outputs": [],
   "source": [
    "from tensorflow.keras import metrics\n",
    "def evaluate_preds(y_true,y_pred):\n",
    "    y_true = tf.cast(y_true, dtype=tf.float32)\n",
    "    y_pred = tf.cast(y_pred, dtype=tf.float32)\n",
    "\n",
    "    mae = metrics.MeanAbsoluteError()(y_true, y_pred)\n",
    "    mse = metrics.MeanSquaredError()(y_true, y_pred) \n",
    "    rmse = tf.sqrt(mse)\n",
    "    mape = metrics.MeanAbsolutePercentageError()(y_true, y_pred)\n",
    "    mase = mean_absolute_scaled_error(y_true, y_pred)\n",
    "  \n",
    "    return {\"mae\": mae.numpy(),\n",
    "            \"mse\": mse.numpy(),\n",
    "            \"rmse\": rmse.numpy(),\n",
    "            \"mape\": mape.numpy(),\n",
    "            \"mase\": mase.numpy()}"
   ]
  },
  {
   "cell_type": "code",
   "execution_count": 30,
   "metadata": {},
   "outputs": [
    {
     "data": {
      "text/plain": [
       "{'mae': 1223.5343,\n",
       " 'mse': 2909474.8,\n",
       " 'rmse': 1705.7183,\n",
       " 'mape': 2.0358636,\n",
       " 'mase': 0.98658866}"
      ]
     },
     "execution_count": 30,
     "metadata": {},
     "output_type": "execute_result"
    }
   ],
   "source": [
    "naive_results = evaluate_preds(y_test[1:], naive_forecast)\n",
    "naive_results"
   ]
  },
  {
   "cell_type": "code",
   "execution_count": 31,
   "metadata": {},
   "outputs": [],
   "source": [
    "Horizon = 1 # Predict 1 day (Label)\n",
    "Windows = 7 # use 7 days to predict (Data)"
   ]
  },
  {
   "cell_type": "code",
   "execution_count": 32,
   "metadata": {},
   "outputs": [],
   "source": [
    "# Create function to label windowed data\n",
    "def get_labelled_windows(x, horizon=Horizoon):\n",
    "  return tf.squeeze(x[:, :-horizon]).numpy(), tf.squeeze(x[:, -horizon:]).numpy()"
   ]
  },
  {
   "cell_type": "code",
   "execution_count": 33,
   "metadata": {},
   "outputs": [
    {
     "name": "stdout",
     "output_type": "stream",
     "text": [
      "[0 1 2 3 4 5 6] --> 7\n"
     ]
    }
   ],
   "source": [
    "test_window, test_label = get_labelled_windows(tf.expand_dims(tf.range(8), axis=0))\n",
    "print(test_window,\"-->\", test_label)"
   ]
  },
  {
   "cell_type": "code",
   "execution_count": 34,
   "metadata": {},
   "outputs": [],
   "source": [
    "import numpy as np"
   ]
  },
  {
   "cell_type": "code",
   "execution_count": 35,
   "metadata": {},
   "outputs": [],
   "source": [
    "# Create function to view NumPy arrays as windows \n",
    "def make_windows(x, window_size=Windows, horizon=Horizon):\n",
    "\n",
    "    window_step = np.expand_dims(np.arange(window_size+horizon), axis=0)\n",
    "    window_indexes = window_step + np.expand_dims(np.arange(len(x)-(window_size+horizon-1)), axis=0).T\n",
    "    windowed_array = x[window_indexes]\n",
    "    windows, labels = get_labelled_windows(windowed_array, horizon)\n",
    "    return windows, labels"
   ]
  },
  {
   "cell_type": "code",
   "execution_count": 36,
   "metadata": {},
   "outputs": [
    {
     "name": "stdout",
     "output_type": "stream",
     "text": [
      "[[27031 27105 27969 27268 27627 27487 27972]\n",
      " [27105 27969 27268 27627 27487 27972 27884]\n",
      " [27969 27268 27627 27487 27972 27884 27907]]\n",
      "[27884 27907 27614]\n",
      "(360, 7) (360,)\n"
     ]
    }
   ],
   "source": [
    "windows, labels = make_windows(prices, window_size=Windows, horizon=Horizon)\n",
    "print(windows[:3])\n",
    "print(labels[:3])\n",
    "print( windows.shape, labels.shape)"
   ]
  },
  {
   "cell_type": "code",
   "execution_count": 37,
   "metadata": {},
   "outputs": [],
   "source": [
    "def make_train_test_split(windows, labels, test_split=0.2):\n",
    "    split_size = int(len(windows)*(1-test_split))\n",
    "    train_windows = windows[:split_size]\n",
    "    test_windows = windows[split_size:]\n",
    "    train_labels = labels[:split_size]\n",
    "    test_labels = labels[split_size:]\n",
    "    return train_windows, test_windows, train_labels, test_labels"
   ]
  },
  {
   "cell_type": "code",
   "execution_count": 38,
   "metadata": {},
   "outputs": [
    {
     "data": {
      "text/plain": [
       "(288, 72, 288, 72)"
      ]
     },
     "execution_count": 38,
     "metadata": {},
     "output_type": "execute_result"
    }
   ],
   "source": [
    "train_windows, test_windows, train_labels, test_labels = make_train_test_split(windows, labels, test_split=0.2)\n",
    "len(train_windows), len(test_windows), len(train_labels), len(test_labels)"
   ]
  },
  {
   "cell_type": "code",
   "execution_count": 49,
   "metadata": {},
   "outputs": [],
   "source": [
    "# Create ModelCheckpoint\n",
    "import os\n",
    "\n",
    "def create_model_checkpoint(model_name, save_path=\"model_experiments\"):\n",
    "    return tf.keras.callbacks.ModelCheckpoint(\n",
    "        filepath=os.path.join(save_path, model_name + \".keras\"),\n",
    "        monitor=\"val_loss\",\n",
    "        verbose=0,\n",
    "        save_best_only=True\n",
    "    )"
   ]
  },
  {
   "cell_type": "markdown",
   "metadata": {},
   "source": [
    "# Make the model"
   ]
  },
  {
   "cell_type": "code",
   "execution_count": 44,
   "metadata": {},
   "outputs": [
    {
     "name": "stdout",
     "output_type": "stream",
     "text": [
      "(288, 7)\n",
      "(288,)\n",
      "(72, 7)\n"
     ]
    }
   ],
   "source": [
    "print(train_windows.shape)\n",
    "print(train_labels.shape)\n",
    "print(test_windows.shape)\n"
   ]
  },
  {
   "cell_type": "code",
   "execution_count": 58,
   "metadata": {},
   "outputs": [
    {
     "name": "stdout",
     "output_type": "stream",
     "text": [
      "Epoch 1/100\n",
      "\u001b[1m3/3\u001b[0m \u001b[32m━━━━━━━━━━━━━━━━━━━━\u001b[0m\u001b[37m\u001b[0m \u001b[1m1s\u001b[0m 138ms/step - loss: 41715.4766 - mae: 41715.4766 - mse: 1858175744.0000 - val_loss: 38486.5586 - val_mae: 38486.5586 - val_mse: 1491151872.0000\n",
      "Epoch 2/100\n",
      "\u001b[1m3/3\u001b[0m \u001b[32m━━━━━━━━━━━━━━━━━━━━\u001b[0m\u001b[37m\u001b[0m \u001b[1m0s\u001b[0m 15ms/step - loss: 32117.2461 - mae: 32117.2461 - mse: 1103697792.0000 - val_loss: 27261.1797 - val_mae: 27261.1797 - val_mse: 752102656.0000\n",
      "Epoch 3/100\n",
      "\u001b[1m3/3\u001b[0m \u001b[32m━━━━━━━━━━━━━━━━━━━━\u001b[0m\u001b[37m\u001b[0m \u001b[1m0s\u001b[0m 16ms/step - loss: 22486.6914 - mae: 22486.6914 - mse: 544530304.0000 - val_loss: 15941.2705 - val_mae: 15941.2705 - val_mse: 262571856.0000\n",
      "Epoch 4/100\n",
      "\u001b[1m3/3\u001b[0m \u001b[32m━━━━━━━━━━━━━━━━━━━━\u001b[0m\u001b[37m\u001b[0m \u001b[1m0s\u001b[0m 16ms/step - loss: 12759.9395 - mae: 12759.9395 - mse: 180865248.0000 - val_loss: 4809.4316 - val_mae: 4809.4316 - val_mse: 28631974.0000\n",
      "Epoch 5/100\n",
      "\u001b[1m3/3\u001b[0m \u001b[32m━━━━━━━━━━━━━━━━━━━━\u001b[0m\u001b[37m\u001b[0m \u001b[1m0s\u001b[0m 11ms/step - loss: 3487.5977 - mae: 3487.5977 - mse: 18370940.0000 - val_loss: 5913.8628 - val_mae: 5913.8628 - val_mse: 43854224.0000\n",
      "Epoch 6/100\n",
      "\u001b[1m3/3\u001b[0m \u001b[32m━━━━━━━━━━━━━━━━━━━━\u001b[0m\u001b[37m\u001b[0m \u001b[1m0s\u001b[0m 11ms/step - loss: 5389.1011 - mae: 5389.1011 - mse: 38863820.0000 - val_loss: 10090.8799 - val_mae: 10090.8799 - val_mse: 111034864.0000\n",
      "Epoch 7/100\n",
      "\u001b[1m3/3\u001b[0m \u001b[32m━━━━━━━━━━━━━━━━━━━━\u001b[0m\u001b[37m\u001b[0m \u001b[1m0s\u001b[0m 11ms/step - loss: 8161.2002 - mae: 8161.2002 - mse: 79851728.0000 - val_loss: 9156.6455 - val_mae: 9156.6455 - val_mse: 92855392.0000\n",
      "Epoch 8/100\n",
      "\u001b[1m3/3\u001b[0m \u001b[32m━━━━━━━━━━━━━━━━━━━━\u001b[0m\u001b[37m\u001b[0m \u001b[1m0s\u001b[0m 11ms/step - loss: 6907.8848 - mae: 6907.8848 - mse: 59571828.0000 - val_loss: 5034.3623 - val_mae: 5034.3623 - val_mse: 33880468.0000\n",
      "Epoch 9/100\n",
      "\u001b[1m3/3\u001b[0m \u001b[32m━━━━━━━━━━━━━━━━━━━━\u001b[0m\u001b[37m\u001b[0m \u001b[1m0s\u001b[0m 15ms/step - loss: 3524.3979 - mae: 3524.3979 - mse: 18725340.0000 - val_loss: 2330.2261 - val_mae: 2330.2261 - val_mse: 8195696.0000\n",
      "Epoch 10/100\n",
      "\u001b[1m3/3\u001b[0m \u001b[32m━━━━━━━━━━━━━━━━━━━━\u001b[0m\u001b[37m\u001b[0m \u001b[1m0s\u001b[0m 11ms/step - loss: 2232.7722 - mae: 2232.7722 - mse: 8781794.0000 - val_loss: 3847.8950 - val_mae: 3847.8950 - val_mse: 19200902.0000\n",
      "Epoch 11/100\n",
      "\u001b[1m3/3\u001b[0m \u001b[32m━━━━━━━━━━━━━━━━━━━━\u001b[0m\u001b[37m\u001b[0m \u001b[1m0s\u001b[0m 10ms/step - loss: 3571.9980 - mae: 3571.9980 - mse: 18255110.0000 - val_loss: 3356.8545 - val_mae: 3356.8545 - val_mse: 14972057.0000\n",
      "Epoch 12/100\n",
      "\u001b[1m3/3\u001b[0m \u001b[32m━━━━━━━━━━━━━━━━━━━━\u001b[0m\u001b[37m\u001b[0m \u001b[1m0s\u001b[0m 16ms/step - loss: 2794.6084 - mae: 2794.6084 - mse: 12306724.0000 - val_loss: 2233.7852 - val_mae: 2233.7852 - val_mse: 8075931.5000\n",
      "Epoch 13/100\n",
      "\u001b[1m3/3\u001b[0m \u001b[32m━━━━━━━━━━━━━━━━━━━━\u001b[0m\u001b[37m\u001b[0m \u001b[1m0s\u001b[0m 12ms/step - loss: 1903.8584 - mae: 1903.8584 - mse: 6359165.0000 - val_loss: 2876.3276 - val_mae: 2876.3276 - val_mse: 15210709.0000\n",
      "Epoch 14/100\n",
      "\u001b[1m3/3\u001b[0m \u001b[32m━━━━━━━━━━━━━━━━━━━━\u001b[0m\u001b[37m\u001b[0m \u001b[1m0s\u001b[0m 11ms/step - loss: 2555.6372 - mae: 2555.6372 - mse: 10358454.0000 - val_loss: 2914.7712 - val_mae: 2914.7712 - val_mse: 15501084.0000\n",
      "Epoch 15/100\n",
      "\u001b[1m3/3\u001b[0m \u001b[32m━━━━━━━━━━━━━━━━━━━━\u001b[0m\u001b[37m\u001b[0m \u001b[1m0s\u001b[0m 10ms/step - loss: 2439.0356 - mae: 2439.0356 - mse: 9552048.0000 - val_loss: 2243.3958 - val_mae: 2243.3958 - val_mse: 8849732.0000\n",
      "Epoch 16/100\n",
      "\u001b[1m3/3\u001b[0m \u001b[32m━━━━━━━━━━━━━━━━━━━━\u001b[0m\u001b[37m\u001b[0m \u001b[1m0s\u001b[0m 11ms/step - loss: 1942.6848 - mae: 1942.6848 - mse: 6422160.0000 - val_loss: 2357.3572 - val_mae: 2357.3572 - val_mse: 8149331.5000\n",
      "Epoch 17/100\n",
      "\u001b[1m3/3\u001b[0m \u001b[32m━━━━━━━━━━━━━━━━━━━━\u001b[0m\u001b[37m\u001b[0m \u001b[1m0s\u001b[0m 11ms/step - loss: 2014.2047 - mae: 2014.2047 - mse: 7132824.0000 - val_loss: 2362.9106 - val_mae: 2362.9106 - val_mse: 8162540.5000\n",
      "Epoch 18/100\n",
      "\u001b[1m3/3\u001b[0m \u001b[32m━━━━━━━━━━━━━━━━━━━━\u001b[0m\u001b[37m\u001b[0m \u001b[1m0s\u001b[0m 14ms/step - loss: 1964.9902 - mae: 1964.9902 - mse: 6771381.0000 - val_loss: 2209.0986 - val_mae: 2209.0986 - val_mse: 8197223.0000\n",
      "Epoch 19/100\n",
      "\u001b[1m3/3\u001b[0m \u001b[32m━━━━━━━━━━━━━━━━━━━━\u001b[0m\u001b[37m\u001b[0m \u001b[1m0s\u001b[0m 11ms/step - loss: 1883.1191 - mae: 1883.1191 - mse: 6134418.5000 - val_loss: 2345.5061 - val_mae: 2345.5061 - val_mse: 10512828.0000\n",
      "Epoch 20/100\n",
      "\u001b[1m3/3\u001b[0m \u001b[32m━━━━━━━━━━━━━━━━━━━━\u001b[0m\u001b[37m\u001b[0m \u001b[1m0s\u001b[0m 13ms/step - loss: 2077.9419 - mae: 2077.9419 - mse: 7170493.0000 - val_loss: 2324.9014 - val_mae: 2324.9014 - val_mse: 10272547.0000\n",
      "Epoch 21/100\n",
      "\u001b[1m3/3\u001b[0m \u001b[32m━━━━━━━━━━━━━━━━━━━━\u001b[0m\u001b[37m\u001b[0m \u001b[1m0s\u001b[0m 15ms/step - loss: 2023.6581 - mae: 2023.6581 - mse: 6861197.0000 - val_loss: 2201.4854 - val_mae: 2201.4854 - val_mse: 8241823.0000\n",
      "Epoch 22/100\n",
      "\u001b[1m3/3\u001b[0m \u001b[32m━━━━━━━━━━━━━━━━━━━━\u001b[0m\u001b[37m\u001b[0m \u001b[1m0s\u001b[0m 11ms/step - loss: 1890.4197 - mae: 1890.4197 - mse: 6140791.5000 - val_loss: 2213.6379 - val_mae: 2213.6379 - val_mse: 7743140.5000\n",
      "Epoch 23/100\n",
      "\u001b[1m3/3\u001b[0m \u001b[32m━━━━━━━━━━━━━━━━━━━━\u001b[0m\u001b[37m\u001b[0m \u001b[1m0s\u001b[0m 15ms/step - loss: 1882.2719 - mae: 1882.2719 - mse: 6179420.0000 - val_loss: 2192.1296 - val_mae: 2192.1296 - val_mse: 7887827.5000\n",
      "Epoch 24/100\n",
      "\u001b[1m3/3\u001b[0m \u001b[32m━━━━━━━━━━━━━━━━━━━━\u001b[0m\u001b[37m\u001b[0m \u001b[1m0s\u001b[0m 11ms/step - loss: 1854.1074 - mae: 1854.1074 - mse: 5987642.0000 - val_loss: 2213.9258 - val_mae: 2213.9258 - val_mse: 8658846.0000\n",
      "Epoch 25/100\n",
      "\u001b[1m3/3\u001b[0m \u001b[32m━━━━━━━━━━━━━━━━━━━━\u001b[0m\u001b[37m\u001b[0m \u001b[1m0s\u001b[0m 11ms/step - loss: 1904.2946 - mae: 1904.2946 - mse: 6191123.0000 - val_loss: 2224.0825 - val_mae: 2224.0825 - val_mse: 8911742.0000\n",
      "Epoch 26/100\n",
      "\u001b[1m3/3\u001b[0m \u001b[32m━━━━━━━━━━━━━━━━━━━━\u001b[0m\u001b[37m\u001b[0m \u001b[1m0s\u001b[0m 15ms/step - loss: 1916.7961 - mae: 1916.7961 - mse: 6251951.5000 - val_loss: 2188.5798 - val_mae: 2188.5798 - val_mse: 8208402.0000\n",
      "Epoch 27/100\n",
      "\u001b[1m3/3\u001b[0m \u001b[32m━━━━━━━━━━━━━━━━━━━━\u001b[0m\u001b[37m\u001b[0m \u001b[1m0s\u001b[0m 17ms/step - loss: 1871.6793 - mae: 1871.6793 - mse: 6017683.0000 - val_loss: 2177.0908 - val_mae: 2177.0908 - val_mse: 7773788.5000\n",
      "Epoch 28/100\n",
      "\u001b[1m3/3\u001b[0m \u001b[32m━━━━━━━━━━━━━━━━━━━━\u001b[0m\u001b[37m\u001b[0m \u001b[1m0s\u001b[0m 20ms/step - loss: 1848.0513 - mae: 1848.0513 - mse: 5948745.0000 - val_loss: 2172.4963 - val_mae: 2172.4963 - val_mse: 7847979.5000\n",
      "Epoch 29/100\n",
      "\u001b[1m3/3\u001b[0m \u001b[32m━━━━━━━━━━━━━━━━━━━━\u001b[0m\u001b[37m\u001b[0m \u001b[1m0s\u001b[0m 10ms/step - loss: 1843.3186 - mae: 1843.3186 - mse: 5896816.0000 - val_loss: 2183.7175 - val_mae: 2183.7175 - val_mse: 8273479.0000\n",
      "Epoch 30/100\n",
      "\u001b[1m3/3\u001b[0m \u001b[32m━━━━━━━━━━━━━━━━━━━━\u001b[0m\u001b[37m\u001b[0m \u001b[1m0s\u001b[0m 11ms/step - loss: 1868.7249 - mae: 1868.7249 - mse: 5988006.0000 - val_loss: 2184.3003 - val_mae: 2184.3003 - val_mse: 8358661.5000\n",
      "Epoch 31/100\n",
      "\u001b[1m3/3\u001b[0m \u001b[32m━━━━━━━━━━━━━━━━━━━━\u001b[0m\u001b[37m\u001b[0m \u001b[1m0s\u001b[0m 15ms/step - loss: 1872.2837 - mae: 1872.2837 - mse: 5997972.5000 - val_loss: 2168.1226 - val_mae: 2168.1226 - val_mse: 8040069.5000\n",
      "Epoch 32/100\n",
      "\u001b[1m3/3\u001b[0m \u001b[32m━━━━━━━━━━━━━━━━━━━━\u001b[0m\u001b[37m\u001b[0m \u001b[1m0s\u001b[0m 16ms/step - loss: 1850.9399 - mae: 1850.9399 - mse: 5894698.0000 - val_loss: 2157.6892 - val_mae: 2157.6892 - val_mse: 7861026.5000\n",
      "Epoch 33/100\n",
      "\u001b[1m3/3\u001b[0m \u001b[32m━━━━━━━━━━━━━━━━━━━━\u001b[0m\u001b[37m\u001b[0m \u001b[1m0s\u001b[0m 15ms/step - loss: 1838.2909 - mae: 1838.2909 - mse: 5838848.5000 - val_loss: 2154.9189 - val_mae: 2154.9189 - val_mse: 7876668.5000\n",
      "Epoch 34/100\n",
      "\u001b[1m3/3\u001b[0m \u001b[32m━━━━━━━━━━━━━━━━━━━━\u001b[0m\u001b[37m\u001b[0m \u001b[1m0s\u001b[0m 12ms/step - loss: 1836.4957 - mae: 1836.4957 - mse: 5821166.0000 - val_loss: 2157.2383 - val_mae: 2157.2383 - val_mse: 7981865.0000\n",
      "Epoch 35/100\n",
      "\u001b[1m3/3\u001b[0m \u001b[32m━━━━━━━━━━━━━━━━━━━━\u001b[0m\u001b[37m\u001b[0m \u001b[1m0s\u001b[0m 15ms/step - loss: 1840.6652 - mae: 1840.6652 - mse: 5832774.0000 - val_loss: 2152.3757 - val_mae: 2152.3757 - val_mse: 7937827.5000\n",
      "Epoch 36/100\n",
      "\u001b[1m3/3\u001b[0m \u001b[32m━━━━━━━━━━━━━━━━━━━━\u001b[0m\u001b[37m\u001b[0m \u001b[1m0s\u001b[0m 16ms/step - loss: 1836.0503 - mae: 1836.0503 - mse: 5806739.0000 - val_loss: 2146.4583 - val_mae: 2146.4583 - val_mse: 7872537.0000\n",
      "Epoch 37/100\n",
      "\u001b[1m3/3\u001b[0m \u001b[32m━━━━━━━━━━━━━━━━━━━━\u001b[0m\u001b[37m\u001b[0m \u001b[1m0s\u001b[0m 15ms/step - loss: 1830.1260 - mae: 1830.1260 - mse: 5774543.5000 - val_loss: 2143.5615 - val_mae: 2143.5615 - val_mse: 7872542.0000\n",
      "Epoch 38/100\n",
      "\u001b[1m3/3\u001b[0m \u001b[32m━━━━━━━━━━━━━━━━━━━━\u001b[0m\u001b[37m\u001b[0m \u001b[1m0s\u001b[0m 18ms/step - loss: 1827.9272 - mae: 1827.9272 - mse: 5759396.0000 - val_loss: 2139.7634 - val_mae: 2139.7634 - val_mse: 7854577.0000\n",
      "Epoch 39/100\n",
      "\u001b[1m3/3\u001b[0m \u001b[32m━━━━━━━━━━━━━━━━━━━━\u001b[0m\u001b[37m\u001b[0m \u001b[1m0s\u001b[0m 16ms/step - loss: 1824.8661 - mae: 1824.8661 - mse: 5740387.0000 - val_loss: 2131.6641 - val_mae: 2131.6641 - val_mse: 7746268.5000\n",
      "Epoch 40/100\n",
      "\u001b[1m3/3\u001b[0m \u001b[32m━━━━━━━━━━━━━━━━━━━━\u001b[0m\u001b[37m\u001b[0m \u001b[1m0s\u001b[0m 16ms/step - loss: 1816.3555 - mae: 1816.3555 - mse: 5696733.5000 - val_loss: 2127.9207 - val_mae: 2127.9207 - val_mse: 7730473.0000\n",
      "Epoch 41/100\n",
      "\u001b[1m3/3\u001b[0m \u001b[32m━━━━━━━━━━━━━━━━━━━━\u001b[0m\u001b[37m\u001b[0m \u001b[1m0s\u001b[0m 15ms/step - loss: 1812.9585 - mae: 1812.9585 - mse: 5676128.5000 - val_loss: 2125.1650 - val_mae: 2125.1650 - val_mse: 7736885.5000\n",
      "Epoch 42/100\n",
      "\u001b[1m3/3\u001b[0m \u001b[32m━━━━━━━━━━━━━━━━━━━━\u001b[0m\u001b[37m\u001b[0m \u001b[1m0s\u001b[0m 17ms/step - loss: 1811.1475 - mae: 1811.1475 - mse: 5662738.5000 - val_loss: 2119.3823 - val_mae: 2119.3823 - val_mse: 7680178.0000\n",
      "Epoch 43/100\n",
      "\u001b[1m3/3\u001b[0m \u001b[32m━━━━━━━━━━━━━━━━━━━━\u001b[0m\u001b[37m\u001b[0m \u001b[1m0s\u001b[0m 16ms/step - loss: 1805.5051 - mae: 1805.5051 - mse: 5632250.0000 - val_loss: 2115.4795 - val_mae: 2115.4795 - val_mse: 7664286.0000\n",
      "Epoch 44/100\n",
      "\u001b[1m3/3\u001b[0m \u001b[32m━━━━━━━━━━━━━━━━━━━━\u001b[0m\u001b[37m\u001b[0m \u001b[1m0s\u001b[0m 16ms/step - loss: 1802.2604 - mae: 1802.2604 - mse: 5612338.5000 - val_loss: 2110.6306 - val_mae: 2110.6306 - val_mse: 7629230.0000\n",
      "Epoch 45/100\n",
      "\u001b[1m3/3\u001b[0m \u001b[32m━━━━━━━━━━━━━━━━━━━━\u001b[0m\u001b[37m\u001b[0m \u001b[1m0s\u001b[0m 15ms/step - loss: 1797.8618 - mae: 1797.8618 - mse: 5587365.0000 - val_loss: 2105.0659 - val_mae: 2105.0659 - val_mse: 7579923.5000\n",
      "Epoch 46/100\n",
      "\u001b[1m3/3\u001b[0m \u001b[32m━━━━━━━━━━━━━━━━━━━━\u001b[0m\u001b[37m\u001b[0m \u001b[1m0s\u001b[0m 14ms/step - loss: 1792.4882 - mae: 1792.4882 - mse: 5558198.5000 - val_loss: 2100.2332 - val_mae: 2100.2332 - val_mse: 7546970.0000\n",
      "Epoch 47/100\n",
      "\u001b[1m3/3\u001b[0m \u001b[32m━━━━━━━━━━━━━━━━━━━━\u001b[0m\u001b[37m\u001b[0m \u001b[1m0s\u001b[0m 16ms/step - loss: 1788.1538 - mae: 1788.1538 - mse: 5533676.0000 - val_loss: 2095.1880 - val_mae: 2095.1880 - val_mse: 7510466.0000\n",
      "Epoch 48/100\n",
      "\u001b[1m3/3\u001b[0m \u001b[32m━━━━━━━━━━━━━━━━━━━━\u001b[0m\u001b[37m\u001b[0m \u001b[1m0s\u001b[0m 17ms/step - loss: 1783.4750 - mae: 1783.4750 - mse: 5507586.0000 - val_loss: 2090.7256 - val_mae: 2090.7256 - val_mse: 7487136.0000\n",
      "Epoch 49/100\n",
      "\u001b[1m3/3\u001b[0m \u001b[32m━━━━━━━━━━━━━━━━━━━━\u001b[0m\u001b[37m\u001b[0m \u001b[1m0s\u001b[0m 17ms/step - loss: 1779.6770 - mae: 1779.6770 - mse: 5485410.0000 - val_loss: 2085.9297 - val_mae: 2085.9297 - val_mse: 7457679.0000\n",
      "Epoch 50/100\n",
      "\u001b[1m3/3\u001b[0m \u001b[32m━━━━━━━━━━━━━━━━━━━━\u001b[0m\u001b[37m\u001b[0m \u001b[1m0s\u001b[0m 16ms/step - loss: 1775.4454 - mae: 1775.4454 - mse: 5461399.0000 - val_loss: 2080.3108 - val_mae: 2080.3108 - val_mse: 7411671.0000\n",
      "Epoch 51/100\n",
      "\u001b[1m3/3\u001b[0m \u001b[32m━━━━━━━━━━━━━━━━━━━━\u001b[0m\u001b[37m\u001b[0m \u001b[1m0s\u001b[0m 16ms/step - loss: 1770.1726 - mae: 1770.1726 - mse: 5432956.0000 - val_loss: 2074.0684 - val_mae: 2074.0684 - val_mse: 7353730.0000\n",
      "Epoch 52/100\n",
      "\u001b[1m3/3\u001b[0m \u001b[32m━━━━━━━━━━━━━━━━━━━━\u001b[0m\u001b[37m\u001b[0m \u001b[1m0s\u001b[0m 16ms/step - loss: 1764.0652 - mae: 1764.0652 - mse: 5401017.0000 - val_loss: 2068.7058 - val_mae: 2068.7058 - val_mse: 7315038.0000\n",
      "Epoch 53/100\n",
      "\u001b[1m3/3\u001b[0m \u001b[32m━━━━━━━━━━━━━━━━━━━━\u001b[0m\u001b[37m\u001b[0m \u001b[1m0s\u001b[0m 17ms/step - loss: 1759.0692 - mae: 1759.0692 - mse: 5373980.0000 - val_loss: 2064.5635 - val_mae: 2064.5635 - val_mse: 7302549.0000\n",
      "Epoch 54/100\n",
      "\u001b[1m3/3\u001b[0m \u001b[32m━━━━━━━━━━━━━━━━━━━━\u001b[0m\u001b[37m\u001b[0m \u001b[1m0s\u001b[0m 15ms/step - loss: 1755.7603 - mae: 1755.7603 - mse: 5354137.0000 - val_loss: 2059.9404 - val_mae: 2059.9404 - val_mse: 7281187.5000\n",
      "Epoch 55/100\n",
      "\u001b[1m3/3\u001b[0m \u001b[32m━━━━━━━━━━━━━━━━━━━━\u001b[0m\u001b[37m\u001b[0m \u001b[1m0s\u001b[0m 15ms/step - loss: 1751.8517 - mae: 1751.8517 - mse: 5331879.5000 - val_loss: 2054.3538 - val_mae: 2054.3538 - val_mse: 7240323.5000\n",
      "Epoch 56/100\n",
      "\u001b[1m3/3\u001b[0m \u001b[32m━━━━━━━━━━━━━━━━━━━━\u001b[0m\u001b[37m\u001b[0m \u001b[1m0s\u001b[0m 16ms/step - loss: 1746.7159 - mae: 1746.7159 - mse: 5304327.5000 - val_loss: 2048.0381 - val_mae: 2048.0381 - val_mse: 7185108.5000\n",
      "Epoch 57/100\n",
      "\u001b[1m3/3\u001b[0m \u001b[32m━━━━━━━━━━━━━━━━━━━━\u001b[0m\u001b[37m\u001b[0m \u001b[1m0s\u001b[0m 21ms/step - loss: 1740.5530 - mae: 1740.5530 - mse: 5272485.0000 - val_loss: 2042.5913 - val_mae: 2042.5913 - val_mse: 7149036.5000\n",
      "Epoch 58/100\n",
      "\u001b[1m3/3\u001b[0m \u001b[32m━━━━━━━━━━━━━━━━━━━━\u001b[0m\u001b[37m\u001b[0m \u001b[1m0s\u001b[0m 14ms/step - loss: 1735.6641 - mae: 1735.6641 - mse: 5246269.0000 - val_loss: 2036.9542 - val_mae: 2036.9542 - val_mse: 7109868.5000\n",
      "Epoch 59/100\n",
      "\u001b[1m3/3\u001b[0m \u001b[32m━━━━━━━━━━━━━━━━━━━━\u001b[0m\u001b[37m\u001b[0m \u001b[1m0s\u001b[0m 14ms/step - loss: 1730.5173 - mae: 1730.5173 - mse: 5218996.5000 - val_loss: 2030.5581 - val_mae: 2030.5581 - val_mse: 7056056.5000\n",
      "Epoch 60/100\n",
      "\u001b[1m3/3\u001b[0m \u001b[32m━━━━━━━━━━━━━━━━━━━━\u001b[0m\u001b[37m\u001b[0m \u001b[1m0s\u001b[0m 14ms/step - loss: 1724.3468 - mae: 1724.3468 - mse: 5187448.5000 - val_loss: 2025.0447 - val_mae: 2025.0447 - val_mse: 7021200.0000\n",
      "Epoch 61/100\n",
      "\u001b[1m3/3\u001b[0m \u001b[32m━━━━━━━━━━━━━━━━━━━━\u001b[0m\u001b[37m\u001b[0m \u001b[1m0s\u001b[0m 16ms/step - loss: 1719.2874 - mae: 1719.2874 - mse: 5160799.0000 - val_loss: 2020.7971 - val_mae: 2020.7971 - val_mse: 7013326.0000\n",
      "Epoch 62/100\n",
      "\u001b[1m3/3\u001b[0m \u001b[32m━━━━━━━━━━━━━━━━━━━━\u001b[0m\u001b[37m\u001b[0m \u001b[1m0s\u001b[0m 16ms/step - loss: 1716.2148 - mae: 1716.2148 - mse: 5142150.5000 - val_loss: 2012.9030 - val_mae: 2012.9030 - val_mse: 6930983.5000\n",
      "Epoch 63/100\n",
      "\u001b[1m3/3\u001b[0m \u001b[32m━━━━━━━━━━━━━━━━━━━━\u001b[0m\u001b[37m\u001b[0m \u001b[1m0s\u001b[0m 17ms/step - loss: 1708.0872 - mae: 1708.0872 - mse: 5103171.5000 - val_loss: 2007.2847 - val_mae: 2007.2847 - val_mse: 6876098.5000\n",
      "Epoch 64/100\n",
      "\u001b[1m3/3\u001b[0m \u001b[32m━━━━━━━━━━━━━━━━━━━━\u001b[0m\u001b[37m\u001b[0m \u001b[1m0s\u001b[0m 25ms/step - loss: 1701.6566 - mae: 1701.6566 - mse: 5071377.0000 - val_loss: 2002.6224 - val_mae: 2002.6224 - val_mse: 6853041.0000\n",
      "Epoch 65/100\n",
      "\u001b[1m3/3\u001b[0m \u001b[32m━━━━━━━━━━━━━━━━━━━━\u001b[0m\u001b[37m\u001b[0m \u001b[1m0s\u001b[0m 16ms/step - loss: 1697.1923 - mae: 1697.1923 - mse: 5047284.5000 - val_loss: 1998.6610 - val_mae: 1998.6610 - val_mse: 6854530.0000\n",
      "Epoch 66/100\n",
      "\u001b[1m3/3\u001b[0m \u001b[32m━━━━━━━━━━━━━━━━━━━━\u001b[0m\u001b[37m\u001b[0m \u001b[1m0s\u001b[0m 16ms/step - loss: 1694.6514 - mae: 1694.6514 - mse: 5030766.0000 - val_loss: 1992.2810 - val_mae: 1992.2810 - val_mse: 6778046.0000\n",
      "Epoch 67/100\n",
      "\u001b[1m3/3\u001b[0m \u001b[32m━━━━━━━━━━━━━━━━━━━━\u001b[0m\u001b[37m\u001b[0m \u001b[1m0s\u001b[0m 15ms/step - loss: 1686.6675 - mae: 1686.6675 - mse: 4992616.5000 - val_loss: 1988.0161 - val_mae: 1988.0161 - val_mse: 6771538.5000\n",
      "Epoch 68/100\n",
      "\u001b[1m3/3\u001b[0m \u001b[32m━━━━━━━━━━━━━━━━━━━━\u001b[0m\u001b[37m\u001b[0m \u001b[1m0s\u001b[0m 17ms/step - loss: 1683.4304 - mae: 1683.4304 - mse: 4973686.5000 - val_loss: 1982.7422 - val_mae: 1982.7422 - val_mse: 6733140.5000\n",
      "Epoch 69/100\n",
      "\u001b[1m3/3\u001b[0m \u001b[32m━━━━━━━━━━━━━━━━━━━━\u001b[0m\u001b[37m\u001b[0m \u001b[1m0s\u001b[0m 15ms/step - loss: 1678.1227 - mae: 1678.1227 - mse: 4946297.5000 - val_loss: 1976.3116 - val_mae: 1976.3116 - val_mse: 6658416.5000\n",
      "Epoch 70/100\n",
      "\u001b[1m3/3\u001b[0m \u001b[32m━━━━━━━━━━━━━━━━━━━━\u001b[0m\u001b[37m\u001b[0m \u001b[1m0s\u001b[0m 16ms/step - loss: 1670.1565 - mae: 1670.1565 - mse: 4908634.0000 - val_loss: 1973.1302 - val_mae: 1973.1302 - val_mse: 6690445.5000\n",
      "Epoch 71/100\n",
      "\u001b[1m3/3\u001b[0m \u001b[32m━━━━━━━━━━━━━━━━━━━━\u001b[0m\u001b[37m\u001b[0m \u001b[1m0s\u001b[0m 15ms/step - loss: 1669.4407 - mae: 1669.4407 - mse: 4900129.0000 - val_loss: 1964.4813 - val_mae: 1964.4813 - val_mse: 6546944.5000\n",
      "Epoch 72/100\n",
      "\u001b[1m3/3\u001b[0m \u001b[32m━━━━━━━━━━━━━━━━━━━━\u001b[0m\u001b[37m\u001b[0m \u001b[1m0s\u001b[0m 15ms/step - loss: 1658.3126 - mae: 1658.3126 - mse: 4848970.5000 - val_loss: 1957.3708 - val_mae: 1957.3708 - val_mse: 6411109.5000\n",
      "Epoch 73/100\n",
      "\u001b[1m3/3\u001b[0m \u001b[32m━━━━━━━━━━━━━━━━━━━━\u001b[0m\u001b[37m\u001b[0m \u001b[1m0s\u001b[0m 12ms/step - loss: 1646.5256 - mae: 1646.5256 - mse: 4794472.5000 - val_loss: 1958.1096 - val_mae: 1958.1096 - val_mse: 6615362.5000\n",
      "Epoch 74/100\n",
      "\u001b[1m3/3\u001b[0m \u001b[32m━━━━━━━━━━━━━━━━━━━━\u001b[0m\u001b[37m\u001b[0m \u001b[1m0s\u001b[0m 16ms/step - loss: 1657.2314 - mae: 1657.2314 - mse: 4832558.0000 - val_loss: 1949.0681 - val_mae: 1949.0681 - val_mse: 6458703.5000\n",
      "Epoch 75/100\n",
      "\u001b[1m3/3\u001b[0m \u001b[32m━━━━━━━━━━━━━━━━━━━━\u001b[0m\u001b[37m\u001b[0m \u001b[1m0s\u001b[0m 21ms/step - loss: 1643.9725 - mae: 1643.9725 - mse: 4775435.0000 - val_loss: 1941.0198 - val_mae: 1941.0198 - val_mse: 6292402.0000\n",
      "Epoch 76/100\n",
      "\u001b[1m3/3\u001b[0m \u001b[32m━━━━━━━━━━━━━━━━━━━━\u001b[0m\u001b[37m\u001b[0m \u001b[1m0s\u001b[0m 11ms/step - loss: 1629.6985 - mae: 1629.6985 - mse: 4709295.0000 - val_loss: 1944.8206 - val_mae: 1944.8206 - val_mse: 6542823.5000\n",
      "Epoch 77/100\n",
      "\u001b[1m3/3\u001b[0m \u001b[32m━━━━━━━━━━━━━━━━━━━━\u001b[0m\u001b[37m\u001b[0m \u001b[1m0s\u001b[0m 14ms/step - loss: 1643.3466 - mae: 1643.3466 - mse: 4761852.5000 - val_loss: 1930.5382 - val_mae: 1930.5382 - val_mse: 6263034.5000\n",
      "Epoch 78/100\n",
      "\u001b[1m3/3\u001b[0m \u001b[32m━━━━━━━━━━━━━━━━━━━━\u001b[0m\u001b[37m\u001b[0m \u001b[1m0s\u001b[0m 15ms/step - loss: 1622.4069 - mae: 1622.4069 - mse: 4674049.5000 - val_loss: 1925.2858 - val_mae: 1925.2858 - val_mse: 6253097.5000\n",
      "Epoch 79/100\n",
      "\u001b[1m3/3\u001b[0m \u001b[32m━━━━━━━━━━━━━━━━━━━━\u001b[0m\u001b[37m\u001b[0m \u001b[1m0s\u001b[0m 11ms/step - loss: 1618.6765 - mae: 1618.6765 - mse: 4647306.5000 - val_loss: 1926.0013 - val_mae: 1926.0013 - val_mse: 6354885.5000\n",
      "Epoch 80/100\n",
      "\u001b[1m3/3\u001b[0m \u001b[32m━━━━━━━━━━━━━━━━━━━━\u001b[0m\u001b[37m\u001b[0m \u001b[1m0s\u001b[0m 15ms/step - loss: 1621.6597 - mae: 1621.6597 - mse: 4658618.5000 - val_loss: 1913.0638 - val_mae: 1913.0638 - val_mse: 6080013.5000\n",
      "Epoch 81/100\n",
      "\u001b[1m3/3\u001b[0m \u001b[32m━━━━━━━━━━━━━━━━━━━━\u001b[0m\u001b[37m\u001b[0m \u001b[1m0s\u001b[0m 18ms/step - loss: 1601.8647 - mae: 1601.8647 - mse: 4574376.0000 - val_loss: 1910.9210 - val_mae: 1910.9210 - val_mse: 6186818.0000\n",
      "Epoch 82/100\n",
      "\u001b[1m3/3\u001b[0m \u001b[32m━━━━━━━━━━━━━━━━━━━━\u001b[0m\u001b[37m\u001b[0m \u001b[1m0s\u001b[0m 14ms/step - loss: 1605.1030 - mae: 1605.1030 - mse: 4577641.0000 - val_loss: 1906.4406 - val_mae: 1906.4406 - val_mse: 6163436.5000\n",
      "Epoch 83/100\n",
      "\u001b[1m3/3\u001b[0m \u001b[32m━━━━━━━━━━━━━━━━━━━━\u001b[0m\u001b[37m\u001b[0m \u001b[1m0s\u001b[0m 16ms/step - loss: 1599.4951 - mae: 1599.4951 - mse: 4554979.0000 - val_loss: 1896.7296 - val_mae: 1896.7296 - val_mse: 6018863.0000\n",
      "Epoch 84/100\n",
      "\u001b[1m3/3\u001b[0m \u001b[32m━━━━━━━━━━━━━━━━━━━━\u001b[0m\u001b[37m\u001b[0m \u001b[1m0s\u001b[0m 12ms/step - loss: 1587.5671 - mae: 1587.5671 - mse: 4500309.0000 - val_loss: 1898.3025 - val_mae: 1898.3025 - val_mse: 6130625.0000\n",
      "Epoch 85/100\n",
      "\u001b[1m3/3\u001b[0m \u001b[32m━━━━━━━━━━━━━━━━━━━━\u001b[0m\u001b[37m\u001b[0m \u001b[1m0s\u001b[0m 15ms/step - loss: 1592.5970 - mae: 1592.5970 - mse: 4512459.0000 - val_loss: 1887.6007 - val_mae: 1887.6007 - val_mse: 5995908.5000\n",
      "Epoch 86/100\n",
      "\u001b[1m3/3\u001b[0m \u001b[32m━━━━━━━━━━━━━━━━━━━━\u001b[0m\u001b[37m\u001b[0m \u001b[1m0s\u001b[0m 16ms/step - loss: 1579.2784 - mae: 1579.2784 - mse: 4459628.0000 - val_loss: 1882.8405 - val_mae: 1882.8405 - val_mse: 5970490.0000\n",
      "Epoch 87/100\n",
      "\u001b[1m3/3\u001b[0m \u001b[32m━━━━━━━━━━━━━━━━━━━━\u001b[0m\u001b[37m\u001b[0m \u001b[1m0s\u001b[0m 15ms/step - loss: 1574.8044 - mae: 1574.8044 - mse: 4435108.0000 - val_loss: 1880.3945 - val_mae: 1880.3945 - val_mse: 5973627.5000\n",
      "Epoch 88/100\n",
      "\u001b[1m3/3\u001b[0m \u001b[32m━━━━━━━━━━━━━━━━━━━━\u001b[0m\u001b[37m\u001b[0m \u001b[1m0s\u001b[0m 15ms/step - loss: 1572.6499 - mae: 1572.6499 - mse: 4419495.5000 - val_loss: 1873.1627 - val_mae: 1873.1627 - val_mse: 5906366.5000\n",
      "Epoch 89/100\n",
      "\u001b[1m3/3\u001b[0m \u001b[32m━━━━━━━━━━━━━━━━━━━━\u001b[0m\u001b[37m\u001b[0m \u001b[1m0s\u001b[0m 15ms/step - loss: 1564.3245 - mae: 1564.3245 - mse: 4384779.5000 - val_loss: 1866.1498 - val_mae: 1866.1498 - val_mse: 5834103.0000\n",
      "Epoch 90/100\n",
      "\u001b[1m3/3\u001b[0m \u001b[32m━━━━━━━━━━━━━━━━━━━━\u001b[0m\u001b[37m\u001b[0m \u001b[1m0s\u001b[0m 16ms/step - loss: 1556.9640 - mae: 1556.9640 - mse: 4349018.5000 - val_loss: 1863.6127 - val_mae: 1863.6127 - val_mse: 5837795.5000\n",
      "Epoch 91/100\n",
      "\u001b[1m3/3\u001b[0m \u001b[32m━━━━━━━━━━━━━━━━━━━━\u001b[0m\u001b[37m\u001b[0m \u001b[1m0s\u001b[0m 14ms/step - loss: 1553.9683 - mae: 1553.9683 - mse: 4332750.5000 - val_loss: 1857.5723 - val_mae: 1857.5723 - val_mse: 5783712.0000\n",
      "Epoch 92/100\n",
      "\u001b[1m3/3\u001b[0m \u001b[32m━━━━━━━━━━━━━━━━━━━━\u001b[0m\u001b[37m\u001b[0m \u001b[1m0s\u001b[0m 15ms/step - loss: 1547.3289 - mae: 1547.3289 - mse: 4301868.5000 - val_loss: 1853.5243 - val_mae: 1853.5243 - val_mse: 5759450.0000\n",
      "Epoch 93/100\n",
      "\u001b[1m3/3\u001b[0m \u001b[32m━━━━━━━━━━━━━━━━━━━━\u001b[0m\u001b[37m\u001b[0m \u001b[1m0s\u001b[0m 15ms/step - loss: 1542.8741 - mae: 1542.8741 - mse: 4278731.5000 - val_loss: 1848.9464 - val_mae: 1848.9464 - val_mse: 5725891.5000\n",
      "Epoch 94/100\n",
      "\u001b[1m3/3\u001b[0m \u001b[32m━━━━━━━━━━━━━━━━━━━━\u001b[0m\u001b[37m\u001b[0m \u001b[1m0s\u001b[0m 15ms/step - loss: 1537.2844 - mae: 1537.2844 - mse: 4252589.0000 - val_loss: 1844.9562 - val_mae: 1844.9562 - val_mse: 5703323.5000\n",
      "Epoch 95/100\n",
      "\u001b[1m3/3\u001b[0m \u001b[32m━━━━━━━━━━━━━━━━━━━━\u001b[0m\u001b[37m\u001b[0m \u001b[1m0s\u001b[0m 14ms/step - loss: 1532.9592 - mae: 1532.9592 - mse: 4230139.5000 - val_loss: 1836.4601 - val_mae: 1836.4601 - val_mse: 5572082.5000\n",
      "Epoch 96/100\n",
      "\u001b[1m3/3\u001b[0m \u001b[32m━━━━━━━━━━━━━━━━━━━━\u001b[0m\u001b[37m\u001b[0m \u001b[1m0s\u001b[0m 11ms/step - loss: 1519.5911 - mae: 1519.5911 - mse: 4181036.5000 - val_loss: 1839.1359 - val_mae: 1839.1359 - val_mse: 5697088.5000\n",
      "Epoch 97/100\n",
      "\u001b[1m3/3\u001b[0m \u001b[32m━━━━━━━━━━━━━━━━━━━━\u001b[0m\u001b[37m\u001b[0m \u001b[1m0s\u001b[0m 15ms/step - loss: 1529.0574 - mae: 1529.0574 - mse: 4199073.5000 - val_loss: 1827.0569 - val_mae: 1827.0569 - val_mse: 5481935.0000\n",
      "Epoch 98/100\n",
      "\u001b[1m3/3\u001b[0m \u001b[32m━━━━━━━━━━━━━━━━━━━━\u001b[0m\u001b[37m\u001b[0m \u001b[1m0s\u001b[0m 10ms/step - loss: 1511.5503 - mae: 1511.5503 - mse: 4138360.5000 - val_loss: 1827.3284 - val_mae: 1827.3284 - val_mse: 5586153.0000\n",
      "Epoch 99/100\n",
      "\u001b[1m3/3\u001b[0m \u001b[32m━━━━━━━━━━━━━━━━━━━━\u001b[0m\u001b[37m\u001b[0m \u001b[1m0s\u001b[0m 11ms/step - loss: 1519.3788 - mae: 1519.3788 - mse: 4144325.7500 - val_loss: 1831.8711 - val_mae: 1831.8711 - val_mse: 5706618.5000\n",
      "Epoch 100/100\n",
      "\u001b[1m3/3\u001b[0m \u001b[32m━━━━━━━━━━━━━━━━━━━━\u001b[0m\u001b[37m\u001b[0m \u001b[1m0s\u001b[0m 16ms/step - loss: 1516.5842 - mae: 1516.5842 - mse: 4153665.0000 - val_loss: 1812.5197 - val_mae: 1812.5197 - val_mse: 5304926.0000\n"
     ]
    },
    {
     "data": {
      "text/plain": [
       "<keras.src.callbacks.history.History at 0x2459df28450>"
      ]
     },
     "execution_count": 58,
     "metadata": {},
     "output_type": "execute_result"
    }
   ],
   "source": [
    "import tensorflow as tf\n",
    "from tensorflow.keras import layers\n",
    "\n",
    "tf.random.set_seed(42)\n",
    "\n",
    "\n",
    "model = tf.keras.Sequential([\n",
    "    layers.Dense(128, activation=\"relu\"),\n",
    "    layers.Dense(Horizon, activation=\"linear\")\n",
    "    ])\n",
    "\n",
    "\n",
    "model.compile(loss=\"mae\",\n",
    "                optimizer=tf.keras.optimizers.Adam(),\n",
    "                metrics=[\"mae\", \"mse\"])\n",
    "\n",
    "model.fit(train_windows,\n",
    "          train_labels,\n",
    "          epochs = 100,\n",
    "          batch_size = 128,\n",
    "          validation_data = (test_windows, test_labels),\n",
    "          callbacks=[create_model_checkpoint(model_name=\"model\")])"
   ]
  },
  {
   "cell_type": "code",
   "execution_count": 59,
   "metadata": {},
   "outputs": [
    {
     "name": "stdout",
     "output_type": "stream",
     "text": [
      "\u001b[1m3/3\u001b[0m \u001b[32m━━━━━━━━━━━━━━━━━━━━\u001b[0m\u001b[37m\u001b[0m \u001b[1m0s\u001b[0m 2ms/step - loss: 1866.1731 - mae: 1866.1731 - mse: 5874518.0000 \n"
     ]
    },
    {
     "data": {
      "text/plain": [
       "[1812.51953125, 1812.51953125, 5304926.0]"
      ]
     },
     "execution_count": 59,
     "metadata": {},
     "output_type": "execute_result"
    }
   ],
   "source": [
    "model.evaluate(test_windows,test_labels)"
   ]
  },
  {
   "cell_type": "code",
   "execution_count": 60,
   "metadata": {},
   "outputs": [
    {
     "name": "stdout",
     "output_type": "stream",
     "text": [
      "\u001b[1m3/3\u001b[0m \u001b[32m━━━━━━━━━━━━━━━━━━━━\u001b[0m\u001b[37m\u001b[0m \u001b[1m0s\u001b[0m 3ms/step - loss: 1866.1731 - mae: 1866.1731 - mse: 5874518.0000  \n"
     ]
    },
    {
     "data": {
      "text/plain": [
       "[1812.51953125, 1812.51953125, 5304926.0]"
      ]
     },
     "execution_count": 60,
     "metadata": {},
     "output_type": "execute_result"
    }
   ],
   "source": [
    "model_ = tf.keras.models.load_model(\"model_experiments/model.keras\")\n",
    "model_.evaluate(test_windows,test_labels)"
   ]
  },
  {
   "cell_type": "code",
   "execution_count": 56,
   "metadata": {},
   "outputs": [],
   "source": [
    "def make_preds(model, input_data):\n",
    "    forecast = model.predict(input_data)\n",
    "    return tf.squeeze(forecast)\n"
   ]
  },
  {
   "cell_type": "code",
   "execution_count": 61,
   "metadata": {},
   "outputs": [
    {
     "name": "stdout",
     "output_type": "stream",
     "text": [
      "\u001b[1m3/3\u001b[0m \u001b[32m━━━━━━━━━━━━━━━━━━━━\u001b[0m\u001b[37m\u001b[0m \u001b[1m0s\u001b[0m 10ms/step\n"
     ]
    }
   ],
   "source": [
    "model_preds = make_preds(model, test_windows)"
   ]
  },
  {
   "cell_type": "code",
   "execution_count": 63,
   "metadata": {},
   "outputs": [
    {
     "data": {
      "text/plain": [
       "{'mae': 1812.5193,\n",
       " 'mse': 5304926.0,\n",
       " 'rmse': 2303.2424,\n",
       " 'mape': 3.023773,\n",
       " 'mase': 1.444271}"
      ]
     },
     "execution_count": 63,
     "metadata": {},
     "output_type": "execute_result"
    }
   ],
   "source": [
    "model_results = evaluate_preds(test_labels,model_preds)\n",
    "model_results"
   ]
  },
  {
   "cell_type": "code",
   "execution_count": 64,
   "metadata": {},
   "outputs": [
    {
     "data": {
      "text/plain": [
       "{'mae': 1223.5343,\n",
       " 'mse': 2909474.8,\n",
       " 'rmse': 1705.7183,\n",
       " 'mape': 2.0358636,\n",
       " 'mase': 0.98658866}"
      ]
     },
     "execution_count": 64,
     "metadata": {},
     "output_type": "execute_result"
    }
   ],
   "source": [
    "naive_results"
   ]
  },
  {
   "cell_type": "markdown",
   "metadata": {},
   "source": [
    "### The model is worse than naive"
   ]
  }
 ],
 "metadata": {
  "kernelspec": {
   "display_name": "base",
   "language": "python",
   "name": "python3"
  },
  "language_info": {
   "codemirror_mode": {
    "name": "ipython",
    "version": 3
   },
   "file_extension": ".py",
   "mimetype": "text/x-python",
   "name": "python",
   "nbconvert_exporter": "python",
   "pygments_lexer": "ipython3",
   "version": "3.11.5"
  }
 },
 "nbformat": 4,
 "nbformat_minor": 2
}
